{
 "cells": [
  {
   "cell_type": "markdown",
   "metadata": {
    "toc": true
   },
   "source": [
    "<h1>Table of Contents<span class=\"tocSkip\"></span></h1>\n",
    "<div class=\"toc\"><ul class=\"toc-item\"><li><span><a href=\"#Submission\" data-toc-modified-id=\"Submission-1\"><span class=\"toc-item-num\">1&nbsp;&nbsp;</span>Submission</a></span></li><li><span><a href=\"#Hypothesis\" data-toc-modified-id=\"Hypothesis-2\"><span class=\"toc-item-num\">2&nbsp;&nbsp;</span>Hypothesis</a></span></li><li><span><a href=\"#Entities-and-attributes\" data-toc-modified-id=\"Entities-and-attributes-3\"><span class=\"toc-item-num\">3&nbsp;&nbsp;</span>Entities and attributes</a></span></li></ul></div>"
   ]
  },
  {
   "cell_type": "markdown",
   "metadata": {},
   "source": [
    "# Pipeline design exercise"
   ]
  },
  {
   "cell_type": "markdown",
   "metadata": {},
   "source": [
    "Welcome to Day 2 of DataJoint Workshop! In this session, you will work in a team to horn in your skills for pipeline design by designing and building a data pipeine to satisfy a real-life experimental project requirements!"
   ]
  },
  {
   "cell_type": "markdown",
   "metadata": {},
   "source": [
    "# Task"
   ]
  },
  {
   "cell_type": "markdown",
   "metadata": {},
   "source": [
    "Read the project scenario below carefully. You are given relevant entities for this experiment and attributes that you would want to keep track for each entity.\n",
    "\n",
    "Your team's task is to design a data pipeline, complete with table definitions in DataJoint to hold all the entities for the project.\n",
    "\n",
    "When you design your data pipeline, be sure to think about the following questions!\n",
    "* What should be the data type for each attribute?\n",
    "* Which attributes should be in the primary key?\n",
    "* What's the dependency between the entities?\n",
    "* What should be the tier of the table?\n",
    "    * If `Imported` or `Computed`, what kind of processing should occur in `make`? (You don't have to implement it)\n"
   ]
  },
  {
   "cell_type": "markdown",
   "metadata": {},
   "source": [
    "You might find the following data types list helpful when designing the table:\n",
    "\n",
    "* `int` - holds integers like 152, 0, and -322\n",
    "* `float` - holds numbers with decimal points like 3.123, 4.0, 1e-2, and -5.1111\n",
    "* `varchar(N)` - holds string of up to N characters. i.e. `varchar(8)` can hold up to 8 characters string like `\"applepie\"` but not `\"chocolate\"`\n",
    "* `ENUM(\"value1\", \"value2\", ...)` - the field content must be one of the listed values. For example, if `ENUM(\"red\", \"blue\", \"green\")`, the value must be `\"red\"`, `\"blue\"`, or `\"green\"`\n",
    "* `date` - holds date value in the format of \"YYYY-MM-DD\". For example, `\"2018-02-28\"` and `\"1988-11-19\"`\n",
    "* `datetime` - holds date and time in the format of \"YYYY-MM-DD hh:mm:ss\". For example, `\"2018-02-01 15:32:10\"` for year 2018, Feb 01 at 3:32pm 10 seconds."
   ]
  },
  {
   "cell_type": "markdown",
   "metadata": {},
   "source": [
    "## Submission"
   ]
  },
  {
   "cell_type": "markdown",
   "metadata": {},
   "source": [
    "Have one person from your team submit a Jupyter notebook containing all the table class definitions into the `public` folder found at the top of the Jupyter Hub environment."
   ]
  },
  {
   "cell_type": "markdown",
   "metadata": {},
   "source": [
    "# Project scenario"
   ]
  },
  {
   "cell_type": "markdown",
   "metadata": {},
   "source": [
    "The Gonzales lab is studying the behavior of different kinds of cells in two midbrain nuclei by slice physiology (patching) and subsequent morphological characterization of different cell types. Slices for patching are cut from juvenile or adult mice, and single or multiple intracellular membrane potential traces are recorded in a special bath media. Previous studies have shown that in some cells in these midbrain nuclei, this media elicits low tonic spontaneous activity and in other cells it cause vigorous phasic bursting. After patching is completed, the slices are fixed and images of each of the slices are collected. Patched cells are identified and manually segmented, and from this manual segmentation the size of the soma is computed. An automated algorithm processes all the ephys traces and classifies cells as “bursting” or “tonic”."
   ]
  },
  {
   "cell_type": "markdown",
   "metadata": {},
   "source": [
    "## Hypothesis"
   ]
  },
  {
   "cell_type": "markdown",
   "metadata": {},
   "source": [
    "The hypothesis is that in juvenile mice,bursting cells and tonic cells in both nuclei A and B have different somatic sizes, but that in adult mice, somatic size is uniform across nuclei and cell types."
   ]
  },
  {
   "cell_type": "markdown",
   "metadata": {},
   "source": [
    "## Entities and attributes"
   ]
  },
  {
   "cell_type": "markdown",
   "metadata": {},
   "source": [
    "Mouse\n",
    "* Mouse ID\n",
    "* Mouse Sex\n",
    "* Mouse DOB\n",
    "\n",
    "Slice\n",
    "* Mouse ID\n",
    "* Slice number\n",
    "* Slice date\n",
    "* Slice location (Anterior/Posterior)\n",
    "\n",
    "PatchedCell\n",
    "* Mouse ID\n",
    "* Slice number\n",
    "* Cell index\n",
    "* Cell location (“Nucleus A”, “Nucleus B”, “Unknown”)\n",
    "* Time elapsed between slicing and recording\n",
    "* FIlename of recording\n",
    "\n",
    "EphysTrace\n",
    "* Mouse ID\n",
    "* Slice number\n",
    "* Cell index\n",
    "* Recording index\n",
    "* Trace length\n",
    "* Trace scale \n",
    "* Raw Trace\n",
    "\n",
    "SliceImage\n",
    "* Mouse ID\n",
    "* Slice number\n",
    "* Image index\n",
    "* Pixel dimensions\n",
    "* Physical dimensions (microns)\n",
    "* Image\n",
    "\n",
    "SegmentedSoma\n",
    "* Mouse ID\n",
    "* Slice number\n",
    "* Cell index\n",
    "* Image index\n",
    "* Segmentation mask\n",
    "* Area of soma in microns^2\n",
    "\n",
    "EphysType\n",
    "* Mouse ID\n",
    "* Slice number\n",
    "* Cell index\n",
    "* Ephys type (“Tonic”, “Bursting”, “Ambiguous”)"
   ]
  },
  {
   "cell_type": "markdown",
   "metadata": {},
   "source": [
    "# Bonus"
   ]
  },
  {
   "cell_type": "markdown",
   "metadata": {},
   "source": [
    "Can you come up with a query that you would use to fetch information you would need to test the hypothesis?"
   ]
  },
  {
   "cell_type": "markdown",
   "metadata": {},
   "source": [
    "# My Solution"
   ]
  },
  {
   "cell_type": "code",
   "execution_count": 1,
   "metadata": {
    "ExecuteTime": {
     "end_time": "2020-07-09T03:34:22.065454Z",
     "start_time": "2020-07-09T03:34:21.159877Z"
    }
   },
   "outputs": [
    {
     "name": "stdout",
     "output_type": "stream",
     "text": [
      "Connecting houhan@tutorial-db.datajoint.io:3306\n"
     ]
    },
    {
     "data": {
      "text/plain": [
       "['houhan_pipeline_session3',\n",
       " 'houhan_pipeline_session4',\n",
       " 'houhan_tutorial',\n",
       " 'houhan_tutorial_pipeline']"
      ]
     },
     "execution_count": 1,
     "metadata": {},
     "output_type": "execute_result"
    }
   ],
   "source": [
    "import datajoint as dj\n",
    "dj.list_schemas()"
   ]
  },
  {
   "cell_type": "code",
   "execution_count": 19,
   "metadata": {
    "ExecuteTime": {
     "end_time": "2020-07-09T03:45:08.331254Z",
     "start_time": "2020-07-09T03:45:08.212572Z"
    }
   },
   "outputs": [],
   "source": [
    "schema = dj.schema('houhan_pipeline_session4')"
   ]
  },
  {
   "cell_type": "code",
   "execution_count": 18,
   "metadata": {
    "ExecuteTime": {
     "end_time": "2020-07-09T03:45:07.616649Z",
     "start_time": "2020-07-09T03:45:04.901371Z"
    }
   },
   "outputs": [
    {
     "name": "stdout",
     "output_type": "stream",
     "text": [
      "Proceed to delete entire schema `houhan_pipeline_session4`? [yes, No]: yes\n"
     ]
    }
   ],
   "source": [
    "schema.drop()"
   ]
  },
  {
   "cell_type": "code",
   "execution_count": 20,
   "metadata": {
    "ExecuteTime": {
     "end_time": "2020-07-09T03:45:09.687646Z",
     "start_time": "2020-07-09T03:45:09.124647Z"
    }
   },
   "outputs": [],
   "source": [
    "@schema\n",
    "class Mouse(dj.Manual):\n",
    "    definition = \"\"\"\n",
    "    mouse_id: int  # Mouse ID\n",
    "    ---\n",
    "    sex=\"unknown\": ENUM('F', 'M', 'unknown')  # Sex\n",
    "    dob: date # Birthday    \n",
    "    \"\"\"\n",
    "    \n",
    "@schema    \n",
    "class Slice(dj.Manual):\n",
    "    definition = \"\"\"\n",
    "    -> Mouse\n",
    "    slice_num: int # Slice Number\n",
    "    ---\n",
    "    slice_date: date # Slice date\n",
    "    slice_loc: ENUM('Anterior', 'Posterior')  # Slice location\n",
    "    \"\"\"\n",
    "    \n",
    "@schema\n",
    "class PatchedCell(dj.Manual):\n",
    "    definition = \"\"\"\n",
    "    -> Slice\n",
    "    cell_idx: int # Cell index\n",
    "    ---\n",
    "    cell_loc: ENUM('Nucleus A', 'Nucleus B', 'Unknown')\n",
    "    time_lapsed: int   # In minute\n",
    "    filename: varchar(30)  # Filename    \n",
    "    \"\"\"\n",
    "\n",
    "@schema\n",
    "class EphysTrace(dj.Imported):\n",
    "    definition = \"\"\"\n",
    "    -> PatchedCell\n",
    "    recording_idx: int  # Recording index\n",
    "    ---\n",
    "    trace_len: int  # Trace length\n",
    "    trace_scale: float \n",
    "    raw_trace: longblob    \n",
    "    \"\"\"\n",
    "    def make(self, key):\n",
    "        pass\n",
    "\n",
    "@schema\n",
    "class SliceImage(dj.Imported):\n",
    "    definition = \"\"\"\n",
    "    -> Slice\n",
    "    image_idx: int\n",
    "    ---\n",
    "    pxl_width : int # pixel width of image\n",
    "    pxl_height : int # pixel height of image\n",
    "    um_width : float # width field of view in microns\n",
    "    um_height : float # height field of view in microns\n",
    "    image: longblob   # Raw image   \n",
    "    \"\"\"\n",
    "    def make(self, key):\n",
    "        pass\n",
    "\n",
    "@schema\n",
    "class SegmentedSoma(dj.Computed):\n",
    "    definition = \"\"\"\n",
    "    -> PatchedCell  \n",
    "    -> SliceImage   # Note this!!!\n",
    "    ---\n",
    "    segment_mask: longblob\n",
    "    area_of_soma: float   # In micron    \n",
    "    \"\"\"\n",
    "    def make(self, key):   # Even this table involves \"real manual\" processing, still \"Computed\" because we need \"make\"!!\n",
    "        pass\n",
    "    \n",
    "@schema\n",
    "class EphysType(dj.Computed):\n",
    "    definition = \"\"\"\n",
    "    -> PatchedCell\n",
    "    ---\n",
    "    ephys_type: ENUM('Tonic', 'Bursting', 'Ambiguous')\n",
    "    \"\"\"\n",
    "    def make(self, key):\n",
    "        pass"
   ]
  },
  {
   "cell_type": "code",
   "execution_count": 21,
   "metadata": {
    "ExecuteTime": {
     "end_time": "2020-07-09T03:45:11.398080Z",
     "start_time": "2020-07-09T03:45:10.708924Z"
    }
   },
   "outputs": [
    {
     "data": {
      "image/svg+xml": [
       "<svg height=\"256pt\" viewBox=\"0.00 0.00 325.88 256.00\" width=\"326pt\" xmlns=\"http://www.w3.org/2000/svg\" xmlns:xlink=\"http://www.w3.org/1999/xlink\">\n",
       "<g class=\"graph\" id=\"graph0\" transform=\"scale(1 1) rotate(0) translate(4 252)\">\n",
       "<title>%3</title>\n",
       "<polygon fill=\"white\" points=\"-4,4 -4,-252 321.875,-252 321.875,4 -4,4\" stroke=\"none\"/>\n",
       "<!-- SegmentedSoma -->\n",
       "<g class=\"node\" id=\"node1\"><title>SegmentedSoma</title>\n",
       "<g id=\"a_node1\"><a xlink:title=\"→ PatchedCell\r",
       "→ SliceImage\r",
       "------------------------------\r",
       "segment_mask         \r",
       "area_of_soma         \r",
       "\">\n",
       "<ellipse cx=\"54.5\" cy=\"-17.5\" fill=\"#ff0000\" fill-opacity=\"0.125490\" rx=\"13\" ry=\"13\" stroke=\"#ff0000\" stroke-opacity=\"0.125490\"/>\n",
       "<text fill=\"#7f0000\" font-family=\"arial\" font-size=\"12.00\" text-anchor=\"middle\" x=\"54.5\" y=\"-14.4\">SegmentedSoma</text>\n",
       "</a>\n",
       "</g>\n",
       "</g>\n",
       "<!-- EphysType -->\n",
       "<g class=\"node\" id=\"node2\"><title>EphysType</title>\n",
       "<g id=\"a_node2\"><a xlink:title=\"→ PatchedCell\r",
       "------------------------------\r",
       "ephys_type           \r",
       "\">\n",
       "<ellipse cx=\"164.5\" cy=\"-17.5\" fill=\"#ff0000\" fill-opacity=\"0.125490\" rx=\"13\" ry=\"13\" stroke=\"#ff0000\" stroke-opacity=\"0.125490\"/>\n",
       "<text fill=\"#7f0000\" font-family=\"arial\" font-size=\"12.00\" text-anchor=\"middle\" x=\"164.5\" y=\"-14.4\">EphysType</text>\n",
       "</a>\n",
       "</g>\n",
       "</g>\n",
       "<!-- PatchedCell -->\n",
       "<g class=\"node\" id=\"node3\"><title>PatchedCell</title>\n",
       "<g id=\"a_node3\"><a xlink:title=\"→ Slice\r",
       "cell_idx             \r",
       "------------------------------\r",
       "cell_loc             \r",
       "time_lapsed          \r",
       "filename             \r",
       "\">\n",
       "<polygon fill=\"#00ff00\" fill-opacity=\"0.188235\" points=\"202.5,-106 122.5,-106 122.5,-71 202.5,-71 202.5,-106\" stroke=\"#00ff00\" stroke-opacity=\"0.188235\"/>\n",
       "<text fill=\"darkgreen\" font-family=\"arial\" font-size=\"12.00\" text-anchor=\"start\" text-decoration=\"underline\" x=\"130.5\" y=\"-86.4\">PatchedCell</text>\n",
       "</a>\n",
       "</g>\n",
       "</g>\n",
       "<!-- PatchedCell&#45;&gt;SegmentedSoma -->\n",
       "<g class=\"edge\" id=\"edge1\"><title>PatchedCell-&gt;SegmentedSoma</title>\n",
       "<path d=\"M136.631,-70.9728C113.791,-56.3806 81.6362,-35.837 65.1549,-25.3073\" fill=\"none\" stroke=\"#000000\" stroke-opacity=\"0.250980\" stroke-width=\"0.75\"/>\n",
       "</g>\n",
       "<!-- PatchedCell&#45;&gt;EphysType -->\n",
       "<g class=\"edge\" id=\"edge2\"><title>PatchedCell-&gt;EphysType</title>\n",
       "<path d=\"M162.984,-70.797C163.345,-58.3531 163.829,-41.6554 164.152,-30.509\" fill=\"none\" stroke=\"#000000\" stroke-opacity=\"0.250980\" stroke-width=\"2\"/>\n",
       "</g>\n",
       "<!-- EphysTrace -->\n",
       "<g class=\"node\" id=\"node7\"><title>EphysTrace</title>\n",
       "<g id=\"a_node7\"><a xlink:title=\"→ PatchedCell\r",
       "recording_idx        \r",
       "------------------------------\r",
       "trace_len            \r",
       "trace_scale          \r",
       "raw_trace            \r",
       "\">\n",
       "<ellipse cx=\"268.5\" cy=\"-17.5\" fill=\"#00007f\" fill-opacity=\"0.250980\" rx=\"49.2503\" ry=\"17.5\" stroke=\"#00007f\" stroke-opacity=\"0.250980\"/>\n",
       "<text fill=\"#00007f\" font-family=\"arial\" font-size=\"12.00\" text-anchor=\"start\" text-decoration=\"underline\" x=\"237\" y=\"-15.4\">EphysTrace</text>\n",
       "</a>\n",
       "</g>\n",
       "</g>\n",
       "<!-- PatchedCell&#45;&gt;EphysTrace -->\n",
       "<g class=\"edge\" id=\"edge3\"><title>PatchedCell-&gt;EphysTrace</title>\n",
       "<path d=\"M187.89,-70.9728C205.529,-59.4904 228.83,-44.323 245.842,-33.2493\" fill=\"none\" stroke=\"#000000\" stroke-opacity=\"0.250980\" stroke-width=\"0.75\"/>\n",
       "</g>\n",
       "<!-- SliceImage -->\n",
       "<g class=\"node\" id=\"node4\"><title>SliceImage</title>\n",
       "<g id=\"a_node4\"><a xlink:title=\"→ Slice\r",
       "image_idx            \r",
       "------------------------------\r",
       "pxl_width            \r",
       "pxl_height           \r",
       "um_width             \r",
       "um_height            \r",
       "image                \r",
       "\">\n",
       "<ellipse cx=\"55.5\" cy=\"-88.5\" fill=\"#00007f\" fill-opacity=\"0.250980\" rx=\"46.7503\" ry=\"17.5\" stroke=\"#00007f\" stroke-opacity=\"0.250980\"/>\n",
       "<text fill=\"#00007f\" font-family=\"arial\" font-size=\"12.00\" text-anchor=\"start\" text-decoration=\"underline\" x=\"26\" y=\"-86.4\">SliceImage</text>\n",
       "</a>\n",
       "</g>\n",
       "</g>\n",
       "<!-- SliceImage&#45;&gt;SegmentedSoma -->\n",
       "<g class=\"edge\" id=\"edge4\"><title>SliceImage-&gt;SegmentedSoma</title>\n",
       "<path d=\"M55.2579,-70.797C55.0776,-58.3531 54.8356,-41.6554 54.674,-30.509\" fill=\"none\" stroke=\"#000000\" stroke-opacity=\"0.250980\" stroke-width=\"0.75\"/>\n",
       "</g>\n",
       "<!-- Slice -->\n",
       "<g class=\"node\" id=\"node5\"><title>Slice</title>\n",
       "<g id=\"a_node5\"><a xlink:title=\"→ Mouse\r",
       "slice_num            \r",
       "------------------------------\r",
       "slice_date           \r",
       "slice_loc            \r",
       "\">\n",
       "<polygon fill=\"#00ff00\" fill-opacity=\"0.188235\" points=\"129,-177 86,-177 86,-142 129,-142 129,-177\" stroke=\"#00ff00\" stroke-opacity=\"0.188235\"/>\n",
       "<text fill=\"darkgreen\" font-family=\"arial\" font-size=\"12.00\" text-anchor=\"start\" text-decoration=\"underline\" x=\"94\" y=\"-157.4\">Slice</text>\n",
       "</a>\n",
       "</g>\n",
       "</g>\n",
       "<!-- Slice&#45;&gt;PatchedCell -->\n",
       "<g class=\"edge\" id=\"edge5\"><title>Slice-&gt;PatchedCell</title>\n",
       "<path d=\"M120.814,-141.797C129.461,-130.949 140.686,-116.867 149.309,-106.049\" fill=\"none\" stroke=\"#000000\" stroke-opacity=\"0.250980\" stroke-width=\"0.75\"/>\n",
       "</g>\n",
       "<!-- Slice&#45;&gt;SliceImage -->\n",
       "<g class=\"edge\" id=\"edge6\"><title>Slice-&gt;SliceImage</title>\n",
       "<path d=\"M94.9123,-141.797C86.6163,-130.789 75.8117,-116.452 67.6138,-105.574\" fill=\"none\" stroke=\"#000000\" stroke-opacity=\"0.250980\" stroke-width=\"0.75\"/>\n",
       "</g>\n",
       "<!-- Mouse -->\n",
       "<g class=\"node\" id=\"node6\"><title>Mouse</title>\n",
       "<g id=\"a_node6\"><a xlink:title=\"mouse_id             \r",
       "------------------------------\r",
       "sex=&quot;unknown&quot;        \r",
       "dob                  \r",
       "\">\n",
       "<polygon fill=\"#00ff00\" fill-opacity=\"0.188235\" points=\"133.5,-248 81.5,-248 81.5,-213 133.5,-213 133.5,-248\" stroke=\"#00ff00\" stroke-opacity=\"0.188235\"/>\n",
       "<text fill=\"darkgreen\" font-family=\"arial\" font-size=\"12.00\" text-anchor=\"start\" text-decoration=\"underline\" x=\"89.5\" y=\"-228.4\">Mouse</text>\n",
       "</a>\n",
       "</g>\n",
       "</g>\n",
       "<!-- Mouse&#45;&gt;Slice -->\n",
       "<g class=\"edge\" id=\"edge7\"><title>Mouse-&gt;Slice</title>\n",
       "<path d=\"M107.5,-212.797C107.5,-201.949 107.5,-187.867 107.5,-177.049\" fill=\"none\" stroke=\"#000000\" stroke-opacity=\"0.250980\" stroke-width=\"0.75\"/>\n",
       "</g>\n",
       "</g>\n",
       "</svg>"
      ],
      "text/plain": [
       "<datajoint.diagram.Diagram at 0x259b7208d88>"
      ]
     },
     "execution_count": 21,
     "metadata": {},
     "output_type": "execute_result"
    }
   ],
   "source": [
    "dj.ERD(schema)"
   ]
  },
  {
   "cell_type": "code",
   "execution_count": 26,
   "metadata": {
    "ExecuteTime": {
     "end_time": "2020-07-09T03:49:51.633920Z",
     "start_time": "2020-07-09T03:49:51.540654Z"
    }
   },
   "outputs": [],
   "source": [
    "target = PatchedCell * Mouse * Slice * EphysType * SegmentedSoma & \\\n",
    "         'ephys_type in (\"tonic\", \"burst\") and cell_loc in (\"A\", \"B\")'\n",
    "\n",
    "selected = target.proj('ephys_type', 'cell_loc', 'area_of_soma', age='DATEDIFF(slice_date, dob)')\n",
    "ephys_type, area, size, age = selected.fetch('ephys_type', 'cell_loc', 'area_of_soma', 'age')"
   ]
  }
 ],
 "metadata": {
  "kernelspec": {
   "display_name": "Python 3",
   "language": "python",
   "name": "python3"
  },
  "language_info": {
   "codemirror_mode": {
    "name": "ipython",
    "version": 3
   },
   "file_extension": ".py",
   "mimetype": "text/x-python",
   "name": "python",
   "nbconvert_exporter": "python",
   "pygments_lexer": "ipython3",
   "version": "3.7.6"
  },
  "toc": {
   "base_numbering": 1,
   "nav_menu": {},
   "number_sections": true,
   "sideBar": true,
   "skip_h1_title": true,
   "title_cell": "Table of Contents",
   "title_sidebar": "Contents",
   "toc_cell": true,
   "toc_position": {},
   "toc_section_display": true,
   "toc_window_display": false
  }
 },
 "nbformat": 4,
 "nbformat_minor": 2
}
