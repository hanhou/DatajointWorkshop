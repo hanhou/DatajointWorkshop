{
 "cells": [
  {
   "cell_type": "markdown",
   "metadata": {
    "toc": true
   },
   "source": [
    "<h1>Table of Contents<span class=\"tocSkip\"></span></h1>\n",
    "<div class=\"toc\"><ul class=\"toc-item\"></ul></div>"
   ]
  },
  {
   "cell_type": "markdown",
   "metadata": {},
   "source": [
    "# Welcome to DataJoint Workshop!"
   ]
  },
  {
   "cell_type": "markdown",
   "metadata": {},
   "source": [
    "Congratulations! If you are reading this, then you have successfully connected to the workshop JupyterHub and opened up your very first workshop notebook!"
   ]
  },
  {
   "cell_type": "markdown",
   "metadata": {},
   "source": [
    "In this notebook, we will:\n",
    "1. learn to import DataJoint package\n",
    "2. connect DataJoint to our workshop database server\n",
    "3. learn how to save your connection configuration\n",
    "4. change your database password to something more secure/memorable and save it into your configuration"
   ]
  },
  {
   "cell_type": "markdown",
   "metadata": {},
   "source": [
    "# First thing first - Importing DataJoint package"
   ]
  },
  {
   "cell_type": "markdown",
   "metadata": {},
   "source": [
    "This JupyterHub environment comes with the latest DataJoint Python package pre-installed, along with many other popular scientific computation Python packages such as [NumPy](http://www.numpy.org/), [SciPy](https://www.scipy.org/), and [Matplotlib](https://matplotlib.org/)."
   ]
  },
  {
   "cell_type": "markdown",
   "metadata": {},
   "source": [
    "Just like any other packages, to start using [DataJoint](https://datajoint.io/), you must first import the package - `datajoint`! Convention is to alias the package to `dj`."
   ]
  },
  {
   "cell_type": "code",
   "execution_count": null,
   "metadata": {},
   "outputs": [],
   "source": [
    "import datajoint as dj"
   ]
  },
  {
   "cell_type": "markdown",
   "metadata": {},
   "source": [
    "You have now successfully imported `datajoint` package. However, `datajoint` is still not connected to a database. We need to **configure the connection information**."
   ]
  },
  {
   "cell_type": "markdown",
   "metadata": {},
   "source": [
    "# Configuring connection to the DataJoint database server"
   ]
  },
  {
   "cell_type": "markdown",
   "metadata": {},
   "source": [
    "Before you can get connected to the database server with DataJoint, you need to make sure that `datajoint` is configured properly. All `datajoint` configs can be found under `dj.config`."
   ]
  },
  {
   "cell_type": "markdown",
   "metadata": {},
   "source": [
    "Let's take a look at what's inside the configuration."
   ]
  },
  {
   "cell_type": "code",
   "execution_count": null,
   "metadata": {},
   "outputs": [],
   "source": [
    "dj.config"
   ]
  },
  {
   "cell_type": "markdown",
   "metadata": {},
   "source": [
    "In particular, take a look at the `database.host`, `database.user`, and `database.password` fields - these fields tell DataJoint:\n",
    "* which database to connect to (`database.host`)\n",
    "* what user name to use (`database.user`), and\n",
    "* the password for the user (`database.password`)"
   ]
  },
  {
   "cell_type": "markdown",
   "metadata": {},
   "source": [
    "For this workshop, some of the configuration values are pre-filled (e.g. `database.host` already points to the workshop database). Let's complete the configuration by specifying the username and password.\n",
    "\n",
    "Go ahead and open up the email you received when you signed up for the workshop. The email should contain your username (should be the same as your GitHub account username) and a randomly generated password. If you need the email to be resent, simply visit and signup again at https://datajoint.io/workshop."
   ]
  },
  {
   "cell_type": "code",
   "execution_count": null,
   "metadata": {},
   "outputs": [],
   "source": [
    "dj.config['database.user'] =  'ENTER USERNAME HERE'\n",
    "dj.config['database.password'] = 'ENTER PASSWORD HERE'"
   ]
  },
  {
   "cell_type": "markdown",
   "metadata": {},
   "source": [
    "Check that the config now contains your username and password"
   ]
  },
  {
   "cell_type": "code",
   "execution_count": null,
   "metadata": {},
   "outputs": [],
   "source": [
    "dj.config"
   ]
  },
  {
   "cell_type": "markdown",
   "metadata": {},
   "source": [
    "# Testing your connection"
   ]
  },
  {
   "cell_type": "markdown",
   "metadata": {},
   "source": [
    "You can now test your connection configuration by trying to explicitly connect to the database with `dj.conn()` function call."
   ]
  },
  {
   "cell_type": "code",
   "execution_count": null,
   "metadata": {},
   "outputs": [],
   "source": [
    "dj.conn()   # establish the connection"
   ]
  },
  {
   "cell_type": "markdown",
   "metadata": {},
   "source": [
    "If the above call returned without an error, then you have successfully established a connection with the database server!"
   ]
  },
  {
   "cell_type": "markdown",
   "metadata": {},
   "source": [
    "# Saving DataJoint configuration across sessions"
   ]
  },
  {
   "cell_type": "markdown",
   "metadata": {},
   "source": [
    "By default, all changes made to the `dj.config` are reset when you reset your Python session, and thus you would have to configure the connection every time you start a new Python kernel.\n",
    "\n",
    "To save yourself the hassle, you can save the current configuration to **a local configuration file**, by default called `dj_local_config.json`. DataJoint will automatically load the configuration file when you import DataJoint the next time."
   ]
  },
  {
   "cell_type": "markdown",
   "metadata": {},
   "source": [
    "To save the current configuration, call the `save_local` method on the `dj.config` object."
   ]
  },
  {
   "cell_type": "code",
   "execution_count": null,
   "metadata": {},
   "outputs": [],
   "source": [
    "# save to local config file\n",
    "dj.config.save_local()"
   ]
  },
  {
   "cell_type": "markdown",
   "metadata": {},
   "source": [
    "Now your configuration is successfully saved into the local configuration file."
   ]
  },
  {
   "cell_type": "markdown",
   "metadata": {},
   "source": [
    "# Changing the password"
   ]
  },
  {
   "cell_type": "markdown",
   "metadata": {},
   "source": [
    "When you signed up for the workshop at https://datajoint.io/workshop, you received a default, randomly generated password to connect to the database. It is recommended that you change this to something that you can remember better. You can do so easily using `dj.set_password` function."
   ]
  },
  {
   "cell_type": "code",
   "execution_count": null,
   "metadata": {},
   "outputs": [],
   "source": [
    "dj.set_password()"
   ]
  },
  {
   "cell_type": "markdown",
   "metadata": {},
   "source": [
    "Congratulations! You have successfully updated your database password via DataJoint! Now be sure to update and save the configuration with the new password."
   ]
  },
  {
   "cell_type": "code",
   "execution_count": null,
   "metadata": {},
   "outputs": [],
   "source": [
    "dj.config['database.password'] = 'ENTER YOUR NEW PASSWORD HERE'\n",
    "\n",
    "# and save it to dj_local_config.json\n",
    "dj.config.save_local()"
   ]
  },
  {
   "cell_type": "markdown",
   "metadata": {},
   "source": [
    "# Final check of your DataJoint configuration"
   ]
  },
  {
   "cell_type": "markdown",
   "metadata": {},
   "source": [
    "To verify that everything is working, go ahead and restart the Jupyter notebook kernel (hit restart icon or go Kernel > Restart). Once restarted, execute the following to verify your connection works. The connection information should now be loaded automatically."
   ]
  },
  {
   "cell_type": "code",
   "execution_count": null,
   "metadata": {},
   "outputs": [],
   "source": [
    "import datajoint as dj\n",
    "dj.conn()  # connect using saved configuration"
   ]
  },
  {
   "cell_type": "markdown",
   "metadata": {},
   "source": [
    "# Summary"
   ]
  },
  {
   "cell_type": "markdown",
   "metadata": {},
   "source": [
    "If all of the above worked, then you are now ready to continue on with the workshop! If you encounter any issues, be sure to let the instructor know and troubleshoot before moving on with the rest of the workshop."
   ]
  }
 ],
 "metadata": {
  "kernelspec": {
   "display_name": "Python 3",
   "language": "python",
   "name": "python3"
  },
  "language_info": {
   "codemirror_mode": {
    "name": "ipython",
    "version": 3
   },
   "file_extension": ".py",
   "mimetype": "text/x-python",
   "name": "python",
   "nbconvert_exporter": "python",
   "pygments_lexer": "ipython3",
   "version": "3.7.6"
  },
  "toc": {
   "base_numbering": 1,
   "nav_menu": {},
   "number_sections": true,
   "sideBar": true,
   "skip_h1_title": true,
   "title_cell": "Table of Contents",
   "title_sidebar": "Contents",
   "toc_cell": true,
   "toc_position": {},
   "toc_section_display": true,
   "toc_window_display": false
  }
 },
 "nbformat": 4,
 "nbformat_minor": 2
}
