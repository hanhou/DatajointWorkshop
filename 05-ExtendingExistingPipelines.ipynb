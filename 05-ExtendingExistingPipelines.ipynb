{
 "cells": [
  {
   "cell_type": "markdown",
   "metadata": {
    "toc": true
   },
   "source": [
    "<h1>Table of Contents<span class=\"tocSkip\"></span></h1>\n",
    "<div class=\"toc\"><ul class=\"toc-item\"><li><span><a href=\"#Importing-an-existing-pipeline\" data-toc-modified-id=\"Importing-an-existing-pipeline-1\"><span class=\"toc-item-num\">1&nbsp;&nbsp;</span>Importing an existing pipeline</a></span></li></ul></div>"
   ]
  },
  {
   "cell_type": "markdown",
   "metadata": {},
   "source": [
    "# Extending an existing pipeline"
   ]
  },
  {
   "cell_type": "markdown",
   "metadata": {},
   "source": [
    "One of the major strenghts of DataJoint is the ease at which you can take an existing data pipeline and extend it with your own tables, performing new analysis. In this session, you will continue to work in a group to:\n",
    "\n",
    "1. explore and understand an existing data pipeline\n",
    "2. extend the data pipeline with new analysis\n",
    "\n",
    "Let's get started!"
   ]
  },
  {
   "cell_type": "markdown",
   "metadata": {},
   "source": [
    "## Importing an existing pipeline"
   ]
  },
  {
   "cell_type": "markdown",
   "metadata": {},
   "source": [
    "As always, let's go ahead and import packages. We are also importing packages to perform analysis with."
   ]
  },
  {
   "cell_type": "code",
   "execution_count": null,
   "metadata": {},
   "outputs": [],
   "source": [
    "import datajoint as dj\n",
    "\n",
    "import numpy as np\n",
    "from matplotlib import pyplot as plt\n",
    "%matplotlib inline"
   ]
  },
  {
   "cell_type": "markdown",
   "metadata": {},
   "source": [
    "We are provided access to an existing pipeline defined in `workshop.calcium`. Let's go ahead and import it!"
   ]
  },
  {
   "cell_type": "code",
   "execution_count": null,
   "metadata": {},
   "outputs": [],
   "source": [
    "import workshop.calcium as ca"
   ]
  },
  {
   "cell_type": "markdown",
   "metadata": {},
   "source": [
    "Let's take a look at the ERD of the pipeline to get an overview."
   ]
  },
  {
   "cell_type": "code",
   "execution_count": null,
   "metadata": {},
   "outputs": [],
   "source": [
    "dj.ERD(ca)"
   ]
  },
  {
   "cell_type": "markdown",
   "metadata": {},
   "source": [
    "As you may be able to guess, this pipeline defines workflow for a multi-photon fluorescent functional imaging (Ca2+ imaging) of mouse. During a scan, the mouse may be presented visual stimulus (`ca.Stimulus`), and we might record the mouse's pupil information (`ca.Pupil`) and it's running state (`ca.Treadmill`)."
   ]
  },
  {
   "cell_type": "markdown",
   "metadata": {},
   "source": [
    "Go ahead and take some time to explore the pipeline. See if you can query the pipeline to gain better insights!"
   ]
  },
  {
   "cell_type": "markdown",
   "metadata": {},
   "source": [
    "# Task Part 1 (25 min)"
   ]
  },
  {
   "cell_type": "markdown",
   "metadata": {},
   "source": [
    "Carefully study the mouse's pupil information (`ca.Pupil`) and running state information (`ca.Trace`).\n",
    "\n",
    "1. Pick a single scan for which both pupil and running state information is available.\n",
    "2. For that scan, plot all pupil related information over time. What information is available?\n",
    "3. For the same scan, plot running state traces over time\n",
    "4. Do you see any relationship between pupil and running state? How would you go about quantifying this?"
   ]
  },
  {
   "cell_type": "markdown",
   "metadata": {},
   "source": [
    "# Task Part 2 (30 min)"
   ]
  },
  {
   "cell_type": "markdown",
   "metadata": {},
   "source": [
    "Looks like we might be onto something quite interesting! Let's go ahead and implement a table that will compute and store the analysis results for all scans. When desigining the table, be sure to think about the following questions:\n",
    "\n",
    "* What's the dependencies for the table?\n",
    "* What does each row represent? (In other words, what's the entity that's getting computed?)\n",
    "* What should be the tier for this table?"
   ]
  }
 ],
 "metadata": {
  "kernelspec": {
   "display_name": "Python 3",
   "language": "python",
   "name": "python3"
  },
  "language_info": {
   "codemirror_mode": {
    "name": "ipython",
    "version": 3
   },
   "file_extension": ".py",
   "mimetype": "text/x-python",
   "name": "python",
   "nbconvert_exporter": "python",
   "pygments_lexer": "ipython3",
   "version": "3.7.6"
  },
  "toc": {
   "base_numbering": 1,
   "nav_menu": {},
   "number_sections": true,
   "sideBar": true,
   "skip_h1_title": true,
   "title_cell": "Table of Contents",
   "title_sidebar": "Contents",
   "toc_cell": true,
   "toc_position": {},
   "toc_section_display": true,
   "toc_window_display": false
  }
 },
 "nbformat": 4,
 "nbformat_minor": 2
}
